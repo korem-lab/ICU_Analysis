{
 "cells": [
  {
   "cell_type": "code",
   "execution_count": null,
   "metadata": {},
   "outputs": [],
   "source": [
    "import sys\n",
    "import numpy as np\n",
    "import pandas as pd\n",
    "from PredictionPipelineV3 import *"
   ]
  },
  {
   "cell_type": "code",
   "execution_count": null,
   "metadata": {},
   "outputs": [],
   "source": [
    "scaler = 'clr'  # or 'logra', 'abun', etc.\n",
    "output_path_val = f\"/manitou/pmg/users/mc5672/post_processing_data/merged_df_val_{scaler}_for_testing.csv\"\n",
    "\n",
    "merged_df_val_processed = pd.read_csv(output_path_val)"
   ]
  },
  {
   "cell_type": "code",
   "execution_count": null,
   "metadata": {},
   "outputs": [],
   "source": [
    "pred = load_pred('/burg/pmg/users/mc5672/preds/icu_test_run_logit_logistic_optimized_10_1_1_20_V3.pkl')\n"
   ]
  },
  {
   "cell_type": "code",
   "execution_count": null,
   "metadata": {},
   "outputs": [],
   "source": [
    "best_model = pred.pipes[pred.eval_df.iloc[0]['iteration']]\n",
    "# for un-nested cv\n",
    "plot_roc_curve(pred.eval_df.iloc[0]['y_test'],pred.eval_df.iloc[0]['y_pred'],label='Best Model')"
   ]
  },
  {
   "cell_type": "code",
   "execution_count": null,
   "metadata": {},
   "outputs": [],
   "source": [
    "# for nested\n",
    "res, train_test_res = pred.run_nested_evaluation(metric='auc')"
   ]
  },
  {
   "cell_type": "code",
   "execution_count": null,
   "metadata": {},
   "outputs": [],
   "source": [
    "merged_df_val_processed = merged_df_val_processed.rename(columns={'days_since_icu': 'days since icu'})\n",
    "target = 'infection'\n",
    "val_X = merged_df_val_processed[pred.X.columns]\n",
    "val_y = merged_df_val_processed[[target]].rename(columns={target: 'outcome'})"
   ]
  },
  {
   "cell_type": "code",
   "execution_count": null,
   "metadata": {},
   "outputs": [],
   "source": [
    "best_model.fit(pred.X,pred.y)\n",
    "val_y_pred = best_model.predict(val_X)\n",
    "val_y_pred.head()"
   ]
  },
  {
   "cell_type": "code",
   "execution_count": null,
   "metadata": {},
   "outputs": [],
   "source": [
    "plot_roc_curve(val_y.loc[val_y_pred.index,'outcome'],val_y_pred[1])"
   ]
  }
 ],
 "metadata": {
  "language_info": {
   "name": "python"
  }
 },
 "nbformat": 4,
 "nbformat_minor": 2
}
